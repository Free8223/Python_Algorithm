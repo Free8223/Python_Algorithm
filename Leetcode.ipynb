{
 "cells": [
  {
   "cell_type": "code",
   "execution_count": null,
   "id": "1669695a-6651-49a3-9bd5-b73ac341026e",
   "metadata": {
    "jupyter": {
     "source_hidden": true
    },
    "scrolled": true
   },
   "outputs": [
    {
     "data": {
      "text/plain": [
       "[2, 4]"
      ]
     },
     "execution_count": 5,
     "metadata": {},
     "output_type": "execute_result"
    }
   ],
   "source": [
    "# 1 给定一个整数数组 nums 和一个整数目标值 target，请你在该数组中找出 和为目标值 target  的那 两个 整数，并返回它们的数组下标。\n",
    "\n",
    "class Solution:\n",
    "    def twoSum(self, nums: list[int], target: int) -> list[int]:\n",
    "        temp={}\n",
    "        for i,v in enumerate(nums):\n",
    "            y=target-v\n",
    "            if y in temp:\n",
    "                return [temp[y],i]\n",
    "            temp[v]=i\n",
    "            # print(temp)\n",
    "\n",
    "nums = [3,1,4,1,5,9]\n",
    "target = 9\n",
    "\n",
    "# nums = [3,2,4]\n",
    "# target = 6\n",
    "\n",
    "# nums = [3,3] \n",
    "# target = 6\n",
    "\n",
    "\n",
    "s=Solution()\n",
    "s.twoSum(nums,target)     "
   ]
  },
  {
   "cell_type": "code",
   "execution_count": null,
   "id": "e71c38e5-c87a-4062-9554-37490df7de6a",
   "metadata": {
    "scrolled": true
   },
   "outputs": [
    {
     "data": {
      "text/plain": [
       "4"
      ]
     },
     "execution_count": 6,
     "metadata": {},
     "output_type": "execute_result"
    }
   ],
   "source": [
    "# 128 给定一个未排序的整数数组 nums ，找出数字连续的最长序列（不要求序列元素在原数组中连续）的长度。\n",
    "\n",
    "class Solution:\n",
    "    def longestConsecutive(self, nums: list[int]) -> int:\n",
    "        num_length =0\n",
    "        num_set = set(nums)     \n",
    "        for num in num_set:\n",
    "            if (num - 1) not in num_set:\n",
    "                length = 1     \n",
    "                while (num + 1) in num_set:\n",
    "                    length += 1\n",
    "                    num += 1    \n",
    "                num_length = max(num_length, length)     \n",
    "        return num_length\n",
    "\n",
    "            \n",
    "nums1 = [0,-1]\n",
    "\n",
    "nums2 = [0,3,7,2,5,8,4,6,0,1]\n",
    "\n",
    "nums3 = [100,4,200,1,3,2]\n",
    "\n",
    "nums4= []\n",
    "\n",
    "nums5=[1,5]\n",
    "\n",
    "s=Solution()\n",
    "s.longestConsecutive(nums3)           "
   ]
  },
  {
   "cell_type": "code",
   "execution_count": 6,
   "id": "1c6386be-ab55-478a-b3eb-1600fd9d7098",
   "metadata": {},
   "outputs": [
    {
     "name": "stdout",
     "output_type": "stream",
     "text": [
      "i= 0\n",
      "[1, 2, 3, 0, 4, 5]\n",
      "i= 1\n",
      "[1, 2, 3, 0, 4, 5]\n",
      "i= 2\n",
      "[1, 2, 3, 0, 4, 5]\n",
      "i= 4\n",
      "j= 3\n",
      "[1, 2, 3, 4, 0, 5]\n",
      "i= 5\n",
      "j= 4\n",
      "[1, 2, 3, 4, 5, 0]\n"
     ]
    }
   ],
   "source": [
    "# 238 给定一个数组 nums，编写一个函数将所有 0 移动到数组的末尾，同时保持非零元素的相对顺序。\n",
    "# 请注意 ，必须在不复制数组的情况下原地对数组进行操作。\n",
    "\n",
    "class Solution:\n",
    "    def moveZeroes(self, nums: list[int]) -> None:\n",
    "        # Do not return anything, modify nums in-place instead.\n",
    "        j=0        \n",
    "        for i in range(len(nums)): \n",
    "            # print('i=',i)\n",
    "            if nums[i]!=0:\n",
    "                print('i=',i)\n",
    "                \n",
    "                if i>j:\n",
    "                    nums[j]=nums[i]\n",
    "                    nums[i]=0\n",
    "                    print(\"j=\",j)\n",
    "                j+=1\n",
    "                print(nums)\n",
    "        \n",
    "nums1 = [0,1,0,3,12]\n",
    "nums2=[0]\n",
    "nums3=[2,0,1]\n",
    "nums4=[]\n",
    "nums5=[1,2,3,0,4,5]\n",
    "\n",
    "s=Solution()\n",
    "s.moveZeroes(nums5)"
   ]
  },
  {
   "cell_type": "code",
   "execution_count": null,
   "id": "bfbdc4a4-8fe9-40fd-bf3b-4a287c72081b",
   "metadata": {},
   "outputs": [
    {
     "data": {
      "text/plain": [
       "1"
      ]
     },
     "execution_count": 8,
     "metadata": {},
     "output_type": "execute_result"
    }
   ],
   "source": [
    "# 11 给定一个长度为 n 的整数数组 height 。有 n 条垂线，第 i 条线的两个端点是 (i, 0) 和 (i, height[i]) 。\n",
    "# 找出其中的两条线，使得它们与 x 轴共同构成的容器可以容纳最多的水。\n",
    "# 返回容器可以储存的最大水量。\n",
    "# 说明：你不能倾斜容器。\n",
    "\n",
    "class Solution:\n",
    "    def maxArea(self, height: list[int]) -> int:\n",
    "        i,j,areas=0,len(height)-1,0\n",
    "        while i<j:\n",
    "            if height[i]<height[j]:\n",
    "                areas=max(height[i]*(j-i),areas)\n",
    "                i+=1\n",
    "            else:\n",
    "                areas=max(height[j]*(j-i),areas)\n",
    "                j-=1\n",
    "        return areas\n",
    "                        \n",
    "\n",
    "height1 = [1,1]\n",
    "height2 =[1,8,6,2,5,4,8,3,7]\n",
    "\n",
    "s=Solution()\n",
    "s.maxArea(height1)\n",
    "    "
   ]
  },
  {
   "cell_type": "code",
   "execution_count": 2,
   "id": "88137614",
   "metadata": {},
   "outputs": [
    {
     "name": "stdout",
     "output_type": "stream",
     "text": [
      "window 1 = {'a': 1}\n",
      "right= 0\n",
      "1\n",
      "window 1 = {'a': 1, 'b': 1}\n",
      "right= 1\n",
      "2\n",
      "window 1 = {'a': 1, 'b': 1, 'c': 1}\n",
      "right= 2\n",
      "3\n",
      "window 2 = {'a': 2, 'b': 1, 'c': 1}\n",
      "right= 3\n",
      "left 1= 0\n",
      "left 2= 1\n",
      "window 3 =  {'a': 1, 'b': 1, 'c': 1}\n",
      "3\n",
      "window 2 = {'a': 1, 'b': 2, 'c': 1}\n",
      "right= 4\n",
      "left 1= 1\n",
      "left 2= 2\n",
      "window 3 =  {'a': 1, 'b': 1, 'c': 1}\n",
      "3\n",
      "window 2 = {'a': 1, 'b': 1, 'c': 2}\n",
      "right= 5\n",
      "left 1= 2\n",
      "left 2= 3\n",
      "window 3 =  {'a': 1, 'b': 1, 'c': 1}\n",
      "3\n",
      "window 2 = {'a': 1, 'b': 2, 'c': 1}\n",
      "right= 6\n",
      "left 1= 3\n",
      "left 2= 4\n",
      "window 3 =  {'a': 0, 'b': 2, 'c': 1}\n",
      "left 1= 4\n",
      "left 2= 5\n",
      "window 3 =  {'a': 0, 'b': 1, 'c': 1}\n",
      "3\n",
      "window 2 = {'a': 0, 'b': 2, 'c': 1}\n",
      "right= 7\n",
      "left 1= 5\n",
      "left 2= 6\n",
      "window 3 =  {'a': 0, 'b': 2, 'c': 0}\n",
      "left 1= 6\n",
      "left 2= 7\n",
      "window 3 =  {'a': 0, 'b': 1, 'c': 0}\n",
      "3\n",
      "window = {'a': 0, 'b': 1, 'c': 0}\n"
     ]
    },
    {
     "ename": "KeyboardInterrupt",
     "evalue": "",
     "output_type": "error",
     "traceback": [
      "\u001b[0;31m---------------------------------------------------------------------------\u001b[0m",
      "\u001b[0;31mKeyboardInterrupt\u001b[0m                         Traceback (most recent call last)",
      "\u001b[1;32m/Users/frei/venv/Python_Algorithm/Leetcode.ipynb Cell 5\u001b[0m line \u001b[0;36m3\n\u001b[1;32m     <a href='vscode-notebook-cell:/Users/frei/venv/Python_Algorithm/Leetcode.ipynb#W4sZmlsZQ%3D%3D?line=30'>31</a>\u001b[0m s \u001b[39m=\u001b[39m \u001b[39m\"\u001b[39m\u001b[39mabcabcbb\u001b[39m\u001b[39m\"\u001b[39m    \n\u001b[1;32m     <a href='vscode-notebook-cell:/Users/frei/venv/Python_Algorithm/Leetcode.ipynb#W4sZmlsZQ%3D%3D?line=32'>33</a>\u001b[0m o\u001b[39m=\u001b[39mSolution()\n\u001b[0;32m---> <a href='vscode-notebook-cell:/Users/frei/venv/Python_Algorithm/Leetcode.ipynb#W4sZmlsZQ%3D%3D?line=34'>35</a>\u001b[0m o\u001b[39m.\u001b[39;49mlengthOfLongestSubstring(s)\n",
      "File \u001b[0;32m_pydevd_bundle/pydevd_cython.pyx:1457\u001b[0m, in \u001b[0;36m_pydevd_bundle.pydevd_cython.SafeCallWrapper.__call__\u001b[0;34m()\u001b[0m\n",
      "File \u001b[0;32m_pydevd_bundle/pydevd_cython.pyx:701\u001b[0m, in \u001b[0;36m_pydevd_bundle.pydevd_cython.PyDBFrame.trace_dispatch\u001b[0;34m()\u001b[0m\n",
      "File \u001b[0;32m_pydevd_bundle/pydevd_cython.pyx:1395\u001b[0m, in \u001b[0;36m_pydevd_bundle.pydevd_cython.PyDBFrame.trace_dispatch\u001b[0;34m()\u001b[0m\n",
      "File \u001b[0;32m_pydevd_bundle/pydevd_cython.pyx:1373\u001b[0m, in \u001b[0;36m_pydevd_bundle.pydevd_cython.PyDBFrame.trace_dispatch\u001b[0;34m()\u001b[0m\n",
      "File \u001b[0;32m_pydevd_bundle/pydevd_cython.pyx:312\u001b[0m, in \u001b[0;36m_pydevd_bundle.pydevd_cython.PyDBFrame.do_wait_suspend\u001b[0;34m()\u001b[0m\n",
      "File \u001b[0;32m/opt/homebrew/lib/python3.11/site-packages/debugpy/_vendored/pydevd/pydevd.py:2070\u001b[0m, in \u001b[0;36mPyDB.do_wait_suspend\u001b[0;34m(self, thread, frame, event, arg, exception_type)\u001b[0m\n\u001b[1;32m   2067\u001b[0m             from_this_thread\u001b[39m.\u001b[39mappend(frame_custom_thread_id)\n\u001b[1;32m   2069\u001b[0m     \u001b[39mwith\u001b[39;00m \u001b[39mself\u001b[39m\u001b[39m.\u001b[39m_threads_suspended_single_notification\u001b[39m.\u001b[39mnotify_thread_suspended(thread_id, thread, stop_reason):\n\u001b[0;32m-> 2070\u001b[0m         keep_suspended \u001b[39m=\u001b[39m \u001b[39mself\u001b[39;49m\u001b[39m.\u001b[39;49m_do_wait_suspend(thread, frame, event, arg, suspend_type, from_this_thread, frames_tracker)\n\u001b[1;32m   2072\u001b[0m frames_list \u001b[39m=\u001b[39m \u001b[39mNone\u001b[39;00m\n\u001b[1;32m   2074\u001b[0m \u001b[39mif\u001b[39;00m keep_suspended:\n\u001b[1;32m   2075\u001b[0m     \u001b[39m# This means that we should pause again after a set next statement.\u001b[39;00m\n",
      "File \u001b[0;32m/opt/homebrew/lib/python3.11/site-packages/debugpy/_vendored/pydevd/pydevd.py:2106\u001b[0m, in \u001b[0;36mPyDB._do_wait_suspend\u001b[0;34m(self, thread, frame, event, arg, suspend_type, from_this_thread, frames_tracker)\u001b[0m\n\u001b[1;32m   2103\u001b[0m         \u001b[39mself\u001b[39m\u001b[39m.\u001b[39m_call_input_hook()\n\u001b[1;32m   2105\u001b[0m     \u001b[39mself\u001b[39m\u001b[39m.\u001b[39mprocess_internal_commands()\n\u001b[0;32m-> 2106\u001b[0m     time\u001b[39m.\u001b[39msleep(\u001b[39m0.01\u001b[39m)\n\u001b[1;32m   2108\u001b[0m \u001b[39mself\u001b[39m\u001b[39m.\u001b[39mcancel_async_evaluation(get_current_thread_id(thread), \u001b[39mstr\u001b[39m(\u001b[39mid\u001b[39m(frame)))\n\u001b[1;32m   2110\u001b[0m \u001b[39m# process any stepping instructions\u001b[39;00m\n",
      "\u001b[0;31mKeyboardInterrupt\u001b[0m: "
     ]
    }
   ],
   "source": [
    "#3. 无重复字符的最长子串\n",
    "\n",
    "class Solution:\n",
    "    def lengthOfLongestSubstring(self, s: str) -> int:\n",
    "        left = 0\n",
    "        right = 0\n",
    "        window = dict()\n",
    "        ans = 0\n",
    "\n",
    "        while right < len(s):\n",
    "            if s[right] not in window:\n",
    "                window[s[right]] = 1\n",
    "                print(\"window 1 =\",window)\n",
    "            else:\n",
    "                window[s[right]] += 1\n",
    "                print(\"window 2 =\",window)\n",
    "            print(\"right=\",right)\n",
    "            while window[s[right]] > 1:\n",
    "                print(\"left 1=\",left)\n",
    "                window[s[left]] -= 1\n",
    "                left += 1\n",
    "                print(\"left 2=\",left)\n",
    "                print(\"window 3 = \",window)\n",
    "\n",
    "            ans = max(ans, right - left + 1)\n",
    "            print(ans)\n",
    "            right += 1\n",
    "        print(\"window =\",window)\n",
    "        return ans\n",
    "\n",
    "s = \"abcabcbb\"    \n",
    "\n",
    "o=Solution()\n",
    "\n",
    "o.lengthOfLongestSubstring(s)"
   ]
  },
  {
   "cell_type": "code",
   "execution_count": null,
   "id": "786f1f17",
   "metadata": {},
   "outputs": [],
   "source": [
    "# 209. 长度最小的子数组\n",
    "\n"
   ]
  },
  {
   "cell_type": "code",
   "execution_count": 1,
   "id": "d3d857d6",
   "metadata": {},
   "outputs": [
    {
     "data": {
      "text/plain": [
       "8"
      ]
     },
     "execution_count": 1,
     "metadata": {},
     "output_type": "execute_result"
    }
   ],
   "source": [
    "# 713. 乘积小于K的子数组\n",
    "\n",
    "class Solution:\n",
    "    def numSubarrayProductLessThanK(self, nums: list[int], k: int) -> int:\n",
    "        if k <= 1:\n",
    "            return 0\n",
    "\n",
    "        size = len(nums)\n",
    "        left = 0\n",
    "        right = 0\n",
    "        window_product = 1\n",
    "        \n",
    "        count = 0\n",
    "        \n",
    "        while right < size:\n",
    "            window_product *= nums[right]\n",
    "\n",
    "            while window_product >= k:\n",
    "                window_product /= nums[left]\n",
    "                left += 1\n",
    "\n",
    "            \"\"\"\n",
    "            ①right必须在子数组中存在，\n",
    "            ②并且子数组是连续的，\n",
    "            ③[left,right]的长度是right-left+1，记为n。\n",
    "            \n",
    "            枚举如下，共有 right - left + 1 种：\n",
    "\n",
    "            长度为1的nums[right]\n",
    "            长度为2的nums[right-1], nums[right]\n",
    "            长度为3的nums[right-2], nums[right-1], nums[right]\n",
    "            ...\n",
    "            长度为right - left + 1的nums[left], ......, nums[right-2], nums[right-1], nums[right]\n",
    "\n",
    "            \"\"\"\n",
    "\n",
    "\n",
    "            count += (right - left + 1)\n",
    "            right += 1\n",
    "            \n",
    "        return count\n",
    "\n",
    "nums = [10,5,2,6]\n",
    "\n",
    "k = 100\n",
    "\n",
    "o=Solution()\n",
    "\n",
    "o.numSubarrayProductLessThanK(nums,k)"
   ]
  }
 ],
 "metadata": {
  "kernelspec": {
   "display_name": "Python 3 (ipykernel)",
   "language": "python",
   "name": "python3"
  },
  "language_info": {
   "codemirror_mode": {
    "name": "ipython",
    "version": 3
   },
   "file_extension": ".py",
   "mimetype": "text/x-python",
   "name": "python",
   "nbconvert_exporter": "python",
   "pygments_lexer": "ipython3",
   "version": "3.11.5"
  }
 },
 "nbformat": 4,
 "nbformat_minor": 5
}
