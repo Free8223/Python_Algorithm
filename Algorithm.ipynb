{
 "cells": [
  {
   "cell_type": "markdown",
   "id": "b0c744b7",
   "metadata": {},
   "source": [
    "按照研究院的正向开发流程，数据分析有助于明确客户群，进而确定开发目标，可以结合客户群的使用工况提供分级的依据。\n",
    "\n",
    "比如案例中的加速度分析等，可以通过与路谱进行比对，同时根据车型，确定异响、操作力分级。（常规项目的路谱的采集工作都是在试验场里完成的）\n",
    "\n",
    "舒适度，电动出风口的智能化，另外作为装饰条或氛围灯颜色变化的输入。\n",
    "\n",
    "一般而言，气温、气压、相对湿度、风速四个气象要素对人体感觉影响最大。\n",
    "\n",
    "根据温度和湿度之间的关系，人体舒适度计算公式为：ssd=(1.818t+ 18.18)(0.88 + 0.002f)+(t- 32) / (45 -t)- 3.2v+ 18.2。其中ssd为人体舒适度指数,t为平均气温,f为相对湿度,v为风速。\n",
    "\n",
    "人体舒适度指数是指根据当日最高气温和 14时相对湿度的预报值计算指数值，再利用指数的大小划分等级并确定舒适程度。\n",
    "舒适度指数是描述气温和湿度对人体的综合影响指标之一，它表征人体在某种温、湿度条件下对该空气环境感觉舒适的程度，用气温和相对湿度的不同组合来表示。\n",
    "DI = T - ( 0.55 - 0.55f ) ( T - 58 )\n",
    "T为华氏度。T=1.8*t+32 t为摄氏度。"
   ]
  },
  {
   "cell_type": "markdown",
   "id": "9d3127e2",
   "metadata": {},
   "source": [
    "# 数组 Array"
   ]
  },
  {
   "cell_type": "markdown",
   "id": "4eb0a841",
   "metadata": {},
   "source": [
    "## 数组排序 Array_Sort "
   ]
  },
  {
   "cell_type": "markdown",
   "id": "838cecd3",
   "metadata": {},
   "source": [
    "### 冒泡排序 Bubble Sort 稳定"
   ]
  },
  {
   "cell_type": "code",
   "execution_count": null,
   "id": "44fa3951",
   "metadata": {},
   "outputs": [],
   "source": [
    "from typing import *\n",
    "\n",
    "class Solution:\n",
    "    def bubbleSort(self, arr):\n",
    "        # 第 i 趟排序\n",
    "        for i in range(len(arr)):\n",
    "            # 从序列中前 n - i + 1 个元素的第 1 个元素开始，相邻两个元素进行比较\n",
    "            for j in range(len(arr) - i - 1):\n",
    "                # 相邻两个元素进行比较，如果前者大于后者，则交换位置\n",
    "                if arr[j] > arr[j + 1]:\n",
    "                    arr[j], arr[j + 1] = arr[j + 1], arr[j]\n",
    "\n",
    "        return arr\n",
    "\n",
    "    def sortArray(self, nums: List[int]) -> List[int]:\n",
    "        return self.bubbleSort(nums)\n",
    "    \n",
    "test=Solution()\n",
    "nums = [6, 2, 3, 5, 1, 4]\n",
    "test.sortArray(nums)"
   ]
  },
  {
   "cell_type": "markdown",
   "id": "fbfad251",
   "metadata": {},
   "source": [
    "### 选择排序 Selection Sort 不稳定"
   ]
  },
  {
   "cell_type": "code",
   "execution_count": null,
   "id": "68d9a047",
   "metadata": {},
   "outputs": [],
   "source": [
    "class Solution:\n",
    "    def selectionSort(self, arr):\n",
    "        for i in range(len(arr) - 1):\n",
    "            # 记录未排序部分中最小值的位置\n",
    "            min_i = i\n",
    "            for j in range(i + 1, len(arr)):\n",
    "                if arr[j] < arr[min_i]:\n",
    "                    min_i = j\n",
    "            # 如果找到最小值的位置，将 i 位置上元素与最小值位置上的元素进行交换\n",
    "            if i != min_i:\n",
    "                arr[i], arr[min_i] = arr[min_i], arr[i]\n",
    "        return arr\n",
    "\n",
    "    def sortArray(self, nums: List[int]) -> List[int]:\n",
    "        return self.selectionSort(nums)"
   ]
  },
  {
   "cell_type": "markdown",
   "id": "31f1edc1",
   "metadata": {},
   "source": [
    "### 插入排序 Insertion Sort 稳定"
   ]
  },
  {
   "cell_type": "code",
   "execution_count": null,
   "id": "4b7a127d",
   "metadata": {},
   "outputs": [],
   "source": [
    "class Solution:\n",
    "    def insertionSort(self, arr):\n",
    "        # 遍历无序序列\n",
    "        for i in range(1, len(arr)):\n",
    "            temp = arr[i]\n",
    "            j = i\n",
    "            # 从右至左遍历有序序列\n",
    "            while j > 0 and arr[j - 1] > temp:\n",
    "                # 将有序序列中插入位置右侧的元素依次右移一位\n",
    "                arr[j] = arr[j - 1]\n",
    "                j -= 1\n",
    "            # 将该元素插入到适当位置\n",
    "            arr[j] = temp\n",
    "\n",
    "        return arr\n",
    "\n",
    "    def sortArray(self, nums: List[int]) -> List[int]:\n",
    "        return self.insertionSort(nums)"
   ]
  },
  {
   "cell_type": "markdown",
   "id": "61a2dcfa",
   "metadata": {},
   "source": [
    "### 希尔排序 Shell Sort  不稳定"
   ]
  },
  {
   "cell_type": "code",
   "execution_count": null,
   "id": "9258f1ea",
   "metadata": {},
   "outputs": [],
   "source": [
    "class Solution:\n",
    "    def shellSort(self, arr):\n",
    "        size = len(arr)\n",
    "        gap = size // 2\n",
    "        # 按照 gap 分组\n",
    "        while gap > 0:\n",
    "            # 对每组元素进行插入排序\n",
    "            for i in range(gap, size):\n",
    "                # temp 为每组中无序序列第 1 个元素\n",
    "                temp = arr[i]\n",
    "                j = i\n",
    "                # 从右至左遍历每组中的有序序列元素\n",
    "                while j >= gap and arr[j - gap] > temp:\n",
    "                    # 将每组有序序列中插入位置右侧的元素依次在组中右移一位\n",
    "                    arr[j] = arr[j - gap]\n",
    "                    j -= gap\n",
    "                # 将该元素插入到适当位置\n",
    "                arr[j] = temp\n",
    "            # 缩小 gap 间隔\n",
    "            gap = gap // 2\n",
    "        return arr\n",
    "\n",
    "    def sortArray(self, nums: List[int]) -> List[int]:\n",
    "        return self.shellSort(nums)"
   ]
  },
  {
   "cell_type": "markdown",
   "id": "80b71cf1",
   "metadata": {},
   "source": [
    "### 归并排序 Merge Sort 稳定"
   ]
  },
  {
   "cell_type": "code",
   "execution_count": null,
   "id": "198d199f",
   "metadata": {},
   "outputs": [],
   "source": [
    "class Solution:\n",
    "    def merge(self, left_arr, right_arr):           # 归并过程\n",
    "        arr = []\n",
    "        left_i, right_i = 0, 0\n",
    "        while left_i < len(left_arr) and right_i < len(right_arr):\n",
    "            # 将两个有序子序列中较小元素依次插入到结果数组中\n",
    "            if left_arr[left_i] < right_arr[right_i]:\n",
    "                arr.append(left_arr[left_i])\n",
    "                left_i += 1\n",
    "            else:\n",
    "                arr.append(right_arr[right_i])\n",
    "                right_i += 1\n",
    "        \n",
    "        while left_i < len(left_arr):\n",
    "            # 如果左子序列有剩余元素，则将其插入到结果数组中\n",
    "            arr.append(left_arr[left_i])\n",
    "            left_i += 1\n",
    "            \n",
    "        while right_i < len(right_arr):\n",
    "            # 如果右子序列有剩余元素，则将其插入到结果数组中\n",
    "            arr.append(right_arr[right_i])\n",
    "            right_i += 1\n",
    "        \n",
    "        return arr                                  # 返回排好序的结果数组\n",
    "\n",
    "    def mergeSort(self, arr):                       # 分割过程\n",
    "        if len(arr) <= 1:                           # 数组元素个数小于等于 1 时，直接返回原数组\n",
    "            return arr\n",
    "        \n",
    "        mid = len(arr) // 2                         # 将数组从中间位置分为左右两个数组。\n",
    "        left_arr = self.mergeSort(arr[0: mid])      # 递归将左子序列进行分割和排序\n",
    "        right_arr =  self.mergeSort(arr[mid:])      # 递归将右子序列进行分割和排序\n",
    "        return self.merge(left_arr, right_arr)      # 把当前序列组中有序子序列逐层向上，进行两两合并。\n",
    "\n",
    "    def sortArray(self, nums: List[int]) -> List[int]:\n",
    "        return self.mergeSort(nums)"
   ]
  },
  {
   "cell_type": "markdown",
   "id": "a67caccd",
   "metadata": {},
   "source": [
    "### 快速排序 Quick Sort 不稳定"
   ]
  },
  {
   "cell_type": "code",
   "execution_count": null,
   "id": "845cbcfc",
   "metadata": {},
   "outputs": [],
   "source": [
    "import random\n",
    "\n",
    "class Solution:\n",
    "    # 从 arr[low: high + 1] 中随机挑选一个基准数，并进行移动排序\n",
    "    def randomPartition(self, arr: [int], low: int, high: int):\n",
    "        # 随机挑选一个基准数\n",
    "        i = random.randint(low, high)\n",
    "        # 将基准数与最低位互换\n",
    "        arr[i], arr[low] = arr[low], arr[i]\n",
    "        # 以最低位为基准数，然后将序列中比基准数大的元素移动到基准数右侧，比他小的元素移动到基准数左侧。最后将基准数放到正确位置上\n",
    "        return self.partition(arr, low, high)\n",
    "    \n",
    "    # 以最低位为基准数，然后将序列中比基准数大的元素移动到基准数右侧，比他小的元素移动到基准数左侧。最后将基准数放到正确位置上\n",
    "    def partition(self, arr: [int], low: int, high: int):\n",
    "        pivot = arr[low]            # 以第 1 为为基准数\n",
    "        i = low + 1                 # 从基准数后 1 位开始遍历，保证位置 i 之前的元素都小于基准数\n",
    "        \n",
    "        for j in range(i, high + 1):\n",
    "            # 发现一个小于基准数的元素\n",
    "            if arr[j] < pivot:\n",
    "                # 将小于基准数的元素 arr[j] 与当前 arr[i] 进行换位，保证位置 i 之前的元素都小于基准数\n",
    "                arr[i], arr[j] = arr[j], arr[i]\n",
    "                # i 之前的元素都小于基准数，所以 i 向右移动一位\n",
    "                i += 1\n",
    "        # 将基准节点放到正确位置上\n",
    "        arr[i - 1], arr[low] = arr[low], arr[i - 1]\n",
    "        # 返回基准数位置\n",
    "        return i - 1\n",
    "\n",
    "    def quickSort(self, arr, low, high):\n",
    "        if low < high:\n",
    "            # 按照基准数的位置，将序列划分为左右两个子序列\n",
    "            pi = self.randomPartition(arr, low, high)\n",
    "            # 对左右两个子序列分别进行递归快速排序\n",
    "            self.quickSort(arr, low, pi - 1)\n",
    "            self.quickSort(arr, pi + 1, high)\n",
    "\n",
    "        return arr\n",
    "\n",
    "    def sortArray(self, nums: List[int]) -> List[int]:\n",
    "        return self.quickSort(nums, 0, len(nums) - 1)"
   ]
  },
  {
   "cell_type": "markdown",
   "id": "84128ab5",
   "metadata": {},
   "source": [
    "### 堆排序 Heap sort 不稳定"
   ]
  },
  {
   "cell_type": "code",
   "execution_count": null,
   "id": "fb0fdddb",
   "metadata": {},
   "outputs": [],
   "source": [
    "class Solution:\n",
    "    # 调整为大顶堆\n",
    "    def heapify(self, arr: [int], index: int, end: int):\n",
    "        # 根节点为 index，左节点为 2 * index + 1， 右节点为 2 * index + 2\n",
    "        left = index * 2 + 1\n",
    "        right = left + 1\n",
    "        while left <= end:\n",
    "            # 当前节点为非叶子结点\n",
    "            max_index = index\n",
    "            if arr[left] > arr[max_index]:\n",
    "                max_index = left\n",
    "            if right <= end and arr[right] > arr[max_index]:\n",
    "                max_index = right\n",
    "            if index == max_index:\n",
    "                # 如果不用交换，则说明已经交换结束\n",
    "                break\n",
    "            arr[index], arr[max_index] = arr[max_index], arr[index]\n",
    "            # 继续调整子树\n",
    "            index = max_index\n",
    "            left = index * 2 + 1\n",
    "            right = left + 1\n",
    "\n",
    "    # 初始化大顶堆\n",
    "    def buildMaxHeap(self, arr: [int]):\n",
    "        size = len(arr)\n",
    "        # (size - 2) // 2 是最后一个非叶节点，叶节点不用调整\n",
    "        for i in range((size - 2) // 2, -1, -1):\n",
    "            self.heapify(arr, i, size - 1)\n",
    "        return arr\n",
    "\n",
    "    # 升序堆排序，思路如下：\n",
    "    # 1. 先建立大顶堆\n",
    "    # 2. 让堆顶最大元素与最后一个交换，然后调整第一个元素到倒数第二个元素，这一步获取最大值\n",
    "    # 3. 再交换堆顶元素与倒数第二个元素，然后调整第一个元素到倒数第三个元素，这一步获取第二大值\n",
    "    # 4. 以此类推，直到最后一个元素交换之后完毕。\n",
    "    def maxHeapSort(self, arr: [int]):\n",
    "        self.buildMaxHeap(arr)\n",
    "        size = len(arr)\n",
    "        for i in range(size):\n",
    "            arr[0], arr[size - i - 1] = arr[size - i - 1], arr[0]\n",
    "            self.heapify(arr, 0, size - i - 2)\n",
    "        return arr\n",
    "\n",
    "    def sortArray(self, nums: List[int]) -> List[int]:\n",
    "        return self.maxHeapSort(nums)"
   ]
  },
  {
   "cell_type": "markdown",
   "id": "f3d2daf7",
   "metadata": {},
   "source": [
    "### 计数排序 Counting Sort 稳定"
   ]
  },
  {
   "cell_type": "code",
   "execution_count": null,
   "id": "1f06ba9c",
   "metadata": {},
   "outputs": [],
   "source": [
    "class Solution:\n",
    "    def countingSort(self, arr):\n",
    "        # 计算待排序序列中最大值元素 arr_max 和最小值元素 arr_min\n",
    "        arr_min, arr_max = min(arr), max(arr)\n",
    "        # 定义计数数组 counts，大小为 最大值元素 - 最小值元素 + 1\n",
    "        size = arr_max - arr_min + 1\n",
    "        counts = [0 for _ in range(size)]\n",
    "        \n",
    "        # 统计值为 num 的元素出现的次数\n",
    "        for num in arr:\n",
    "            counts[num - arr_min] += 1\n",
    "        \n",
    "        # 计算元素排名\n",
    "        for j in range(1, size):\n",
    "            counts[j] += counts[j - 1]\n",
    "\n",
    "        # 反向填充目标数组\n",
    "        res = [0 for _ in range(len(arr))]\n",
    "        for i in range(len(arr) - 1, -1, -1):\n",
    "            # 根据排名，将 arr[i] 放在数组对应位置\n",
    "            res[counts[arr[i] - arr_min] - 1] = arr[i]\n",
    "            # 将 arr[i] 的对应排名减 1\n",
    "            counts[arr[i] - arr_min] -= 1\n",
    "\n",
    "        return res\n",
    "\n",
    "    def sortArray(self, nums: List[int]) -> List[int]:\n",
    "        return self.countingSort(nums)"
   ]
  },
  {
   "cell_type": "markdown",
   "id": "f06a34d0",
   "metadata": {},
   "source": [
    "### 桶排序 Bucket Sort 稳定"
   ]
  },
  {
   "cell_type": "code",
   "execution_count": null,
   "id": "1eda9fa1",
   "metadata": {},
   "outputs": [],
   "source": [
    "class Solution:\n",
    "    def insertionSort(self, arr):\n",
    "        # 遍历无序序列\n",
    "        for i in range(1, len(arr)):\n",
    "            temp = arr[i]\n",
    "            j = i\n",
    "            # 从右至左遍历有序序列\n",
    "            while j > 0 and arr[j - 1] > temp:\n",
    "                # 将有序序列中插入位置右侧的元素依次右移一位\n",
    "                arr[j] = arr[j - 1]\n",
    "                j -= 1\n",
    "            # 将该元素插入到适当位置\n",
    "            arr[j] = temp\n",
    "\n",
    "        return arr\n",
    "\n",
    "    def bucketSort(self, arr, bucket_size=5):\n",
    "        # 计算待排序序列中最大值元素 arr_max 和最小值元素 arr_min\n",
    "        arr_min, arr_max = min(arr), max(arr)\n",
    "        # 定义桶的个数为 (最大值元素 - 最小值元素) // 每个桶的大小 + 1\n",
    "        bucket_count = (arr_max - arr_min) // bucket_size + 1\n",
    "        # 定义桶数组 buckets\n",
    "        buckets = [[] for _ in range(bucket_count)]\n",
    "\n",
    "        # 遍历原始数组元素，将每个元素装入对应区间的桶中\n",
    "        for num in arr:\n",
    "            buckets[(num - arr_min) // bucket_size].append(num)\n",
    "\n",
    "        # 对每个桶内的元素单独排序，并合并到 res 数组中\n",
    "        res = []\n",
    "        for bucket in buckets:\n",
    "            self.insertionSort(bucket)\n",
    "            res.extend(bucket)\n",
    "\n",
    "        return res\n",
    "\n",
    "    def sortArray(self, nums: List[int]) -> List[int]:\n",
    "        return self.bucketSort(nums)"
   ]
  },
  {
   "cell_type": "markdown",
   "id": "054367d7",
   "metadata": {},
   "source": [
    "### 基数排序 Radix Sort 稳定"
   ]
  },
  {
   "cell_type": "code",
   "execution_count": null,
   "id": "4999b13e",
   "metadata": {},
   "outputs": [],
   "source": [
    "class Solution:\n",
    "    def radixSort(self, arr):\n",
    "        # 桶的大小为所有元素的最大位数\n",
    "        size = len(str(max(arr)))\n",
    "\n",
    "        # 从低位到高位依次遍历每一位，以各个数位值为索引，对数组进行按数位排序\n",
    "        for i in range(size):\n",
    "            # 使用一个长度为 10 的桶来存放各个位上的元素\n",
    "            buckets = [[] for _ in range(10)]\n",
    "            # 遍历数组元素，根据元素对应位上的值，将其存入对应位的桶中\n",
    "            for num in arr:\n",
    "                buckets[num // (10 ** i) % 10].append(num)\n",
    "            # 清空原始数组\n",
    "            arr.clear()\n",
    "            # 从桶中依次取出对应元素，并重新加入到原始数组\n",
    "            for bucket in buckets:\n",
    "                for num in bucket:\n",
    "                    arr.append(num)\n",
    "\n",
    "        return arr\n",
    "\n",
    "    def sortArray(self, nums: List[int]) -> List[int]:\n",
    "        return self.radixSort(nums)"
   ]
  },
  {
   "cell_type": "markdown",
   "id": "aa854416",
   "metadata": {},
   "source": [
    "## 二分查找算法（Binary Search Algorithm）"
   ]
  },
  {
   "cell_type": "markdown",
   "id": "22ab9389",
   "metadata": {},
   "source": [
    "要点：\n",
    "* 左闭右闭：初始化赋值时，left = 0，right = len(nums) - 1，left 为数组第一个元素位置，right 为数组最后一个元素位置，从而区间 [left, right] 左右边界上的点都能取到。\n",
    "\n",
    "* 如果判断语句为 left <= right，且查找的元素不存在，则 while 判断语句出界条件是 left == right + 1，写成区间形式就是 [right + 1, right]，此时待查找区间为空，待查找区间中没有元素存在，所以此时终止循环可以直接返回 -1 是正确的。\n",
    "比如说区间 [3, 2]，不可能存在一个元素既大于等于 3 又小于等于 2，此时直接终止循环，返回 -1 即可。\n",
    "<br>如果判断语句为left < right，且查找的元素不存在，则 while 判断语句出界条件是 left == right，写成区间形式就是 [right, right]。此时区间不为空，待查找区间还有一个元素存在，并不能确定查找的元素不在这个区间中，此时终止循环返回 -1 是错误的。\n",
    "比如说区间 [2, 2]，元素 2 就属于这个区间，此时终止循环，返回 -1 就漏掉了这个元素。\n",
    "```Python\n",
    "    while left < right:\n",
    "        ...\n",
    "    return left if nums[left] == target else -1\n",
    "    \n",
    "* 思路 1：「直接找」—— 在循环体中找到元素后直接返回结果。\n",
    "  思路 2：「排除法」—— 在循环体中排除目标元素一定不存在区间。"
   ]
  },
  {
   "cell_type": "code",
   "execution_count": null,
   "id": "337ddc33",
   "metadata": {},
   "outputs": [],
   "source": [
    "# 直接找\n",
    "\n",
    "class Solution:\n",
    "    def search(self, nums: List[int], target: int) -> int:\n",
    "        left, right = 0, len(nums) - 1\n",
    "        \n",
    "        # 在区间 [left, right] 内查找 target\n",
    "        while left <= right:\n",
    "            # 取区间中间节点\n",
    "            mid = left + (right - left) // 2\n",
    "            # 如果找到目标值，则直接范围中心位置\n",
    "            if nums[mid] == target:\n",
    "                return mid\n",
    "            # 如果 nums[mid] 小于目标值，则在 [mid + 1, right] 中继续搜索\n",
    "            elif nums[mid] < target:\n",
    "                left = mid + 1\n",
    "            # 如果 nums[mid] 大于目标值，则在 [left, mid - 1] 中继续搜索\n",
    "            else:\n",
    "                right = mid - 1\n",
    "        # 未搜索到元素，返回 -1\n",
    "        return -1"
   ]
  },
  {
   "cell_type": "code",
   "execution_count": null,
   "id": "5bf53ff5",
   "metadata": {},
   "outputs": [],
   "source": [
    "# 排除法 1\n",
    "\n",
    "class Solution:\n",
    "    def search(self, nums: List[int], target: int) -> int:\n",
    "        left, right = 0, len(nums) - 1\n",
    "        \n",
    "        # 在区间 [left, right] 内查找 target\n",
    "        while left < right:\n",
    "            # 取区间中间节点\n",
    "            mid = left + (right - left) // 2\n",
    "            # nums[mid] 小于目标值，排除掉不可能区间 [left, mid]，在 [mid + 1, right] 中继续搜索\n",
    "            if nums[mid] < target:\n",
    "                left = mid + 1 \n",
    "            # nums[mid] 大于等于目标值，目标元素可能在 [left, mid] 中，在 [left, mid] 中继续搜索\n",
    "            else:\n",
    "                right = mid\n",
    "        # 判断区间剩余元素是否为目标元素，不是则返回 -1\n",
    "        return left if nums[left] == target else -1"
   ]
  },
  {
   "cell_type": "code",
   "execution_count": null,
   "id": "82f26671",
   "metadata": {},
   "outputs": [],
   "source": [
    "# 排除法 2\n",
    "\n",
    "class Solution:\n",
    "    def search(self, nums: List[int], target: int) -> int:\n",
    "        left, right = 0, len(nums) - 1\n",
    "        \n",
    "        # 在区间 [left, right] 内查找 target\n",
    "        while left < right:\n",
    "            # 取区间中间节点\n",
    "            mid = left + (right - left + 1) // 2\n",
    "            # nums[mid] 大于目标值，排除掉不可能区间 [mid, right]，在 [left, mid - 1] 中继续搜索\n",
    "            if nums[mid] > target:\n",
    "                right = mid - 1 \n",
    "            # nums[mid] 小于等于目标值，目标元素可能在 [mid, right] 中，在 [mid, right] 中继续搜索\n",
    "            else:\n",
    "                left = mid\n",
    "        # 判断区间剩余元素是否为目标元素，不是则返回 -1\n",
    "        return left if nums[left] == target else -1"
   ]
  },
  {
   "cell_type": "markdown",
   "id": "0e576385",
   "metadata": {},
   "source": [
    "## 数组双指针"
   ]
  },
  {
   "cell_type": "code",
   "execution_count": null,
   "id": "082c04bf",
   "metadata": {},
   "outputs": [],
   "source": [
    "# 对撞指针\n",
    "\n",
    "left, right = 0, len(nums) - 1\n",
    "\n",
    "while left < right:\n",
    "    if 满足要求的特殊条件:\n",
    "        return 符合条件的值 \n",
    "    elif 一定条件 1:\n",
    "        left += 1\n",
    "    elif 一定条件 2:\n",
    "        right -= 1\n",
    "\n",
    "return 没找到 或 找到对应值"
   ]
  },
  {
   "cell_type": "code",
   "execution_count": null,
   "id": "a9fd225b",
   "metadata": {},
   "outputs": [],
   "source": [
    "# 快慢指针\n",
    "\n",
    "slow = 0\n",
    "fast = 1\n",
    "while 没有遍历完：\n",
    "    if 满足要求的特殊条件:\n",
    "        slow += 1\n",
    "    fast += 1\n",
    "return 合适的值"
   ]
  },
  {
   "cell_type": "markdown",
   "id": "bce54527",
   "metadata": {},
   "source": [
    "## 数组滑动窗口"
   ]
  },
  {
   "cell_type": "code",
   "execution_count": null,
   "id": "0890a111",
   "metadata": {},
   "outputs": [],
   "source": [
    "# 固定长度窗口模板\n",
    "\n",
    "left = 0\n",
    "right = 0\n",
    "\n",
    "while right < len(nums):\n",
    "    window.append(nums[right])\n",
    "    \n",
    "    # 超过窗口大小时，缩小窗口，维护窗口中始终为 window_size 的长度\n",
    "    if right - left + 1 >= window_size:\n",
    "        # ... 维护答案\n",
    "        window.popleft()\n",
    "        left += 1\n",
    "    \n",
    "    # 向右侧增大窗口\n",
    "    right += 1"
   ]
  },
  {
   "cell_type": "code",
   "execution_count": null,
   "id": "cd515ed2",
   "metadata": {},
   "outputs": [],
   "source": [
    "# 不定长度窗口\n",
    "\n",
    "left = 0\n",
    "right = 0\n",
    "\n",
    "while right < len(nums):\n",
    "    window.append(nums[right])\n",
    "    \n",
    "    while 窗口需要缩小:\n",
    "        # ... 可维护答案\n",
    "        window.popleft()\n",
    "        left += 1\n",
    "    \n",
    "    # 向右侧增大窗口\n",
    "    right += 1"
   ]
  },
  {
   "cell_type": "markdown",
   "id": "261ffe59",
   "metadata": {},
   "source": [
    "# 图\n",
    "\n",
    "### BFS 广度优先搜索"
   ]
  },
  {
   "cell_type": "code",
   "execution_count": null,
   "id": "1f70171a",
   "metadata": {},
   "outputs": [],
   "source": [
    "# 利用 队列 实现 广度优先搜索 https://leetcode.cn/problems/keys-and-rooms/\n",
    "\n",
    "class Solution:\n",
    "    def canVisitAllRooms(self, rooms: List[List[int]]) -> bool:\n",
    "        visited, queue = {0}, [0]\n",
    "        while queue:\n",
    "            room_index = queue.pop()\n",
    "            for key in rooms[room_index]:\n",
    "                if key not in visited:\n",
    "                    visited.add(key)\n",
    "                    queue.insert(0,key)\n",
    "        return len(visited) == len(rooms)"
   ]
  },
  {
   "cell_type": "markdown",
   "id": "237c0c04",
   "metadata": {},
   "source": [
    "### DFS 深度优先搜索\n",
    "\n",
    "#### 栈\n",
    "补充——关于在Python中使用栈 直接使用list即可，只使用它的这两个方法\n",
    "\n",
    "pop()\n",
    "append()\n",
    "\n",
    "#### 递归\n"
   ]
  },
  {
   "cell_type": "code",
   "execution_count": null,
   "id": "955ac19f",
   "metadata": {},
   "outputs": [],
   "source": [
    "# DFS 栈\n",
    "class Solution:\n",
    "    def canVisitAllRooms(self, rooms: List[List[int]]) -> bool:\n",
    "        visited, stack = {0}, [0]\n",
    "        while stack:\n",
    "            room_index = stack.pop()\n",
    "            for key in rooms[room_index]:\n",
    "                if key not in visited: \n",
    "                    visited.add(key)\n",
    "                    stack.append(key)\n",
    "        return len(visited) == len(rooms)"
   ]
  },
  {
   "cell_type": "code",
   "execution_count": null,
   "id": "96452a01",
   "metadata": {},
   "outputs": [],
   "source": [
    "# DFS 递归\n",
    "\n",
    "class Solution:\n",
    "    def canVisitAllRooms(self, rooms: List[List[int]]) -> bool:\n",
    "        visited = {0}\n",
    "        def dfs(room_index,visited):\n",
    "            visited.add(room_index)\n",
    "            for key in rooms[room_index]:\n",
    "                if key not in visited: dfs(key,visited)\n",
    "        dfs(0,visited)\n",
    "        return len(visited) == len(rooms)\n",
    "\n",
    "\n",
    "\n",
    "\n"
   ]
  },
  {
   "cell_type": "markdown",
   "id": "d46ca164",
   "metadata": {},
   "source": []
  },
  {
   "cell_type": "markdown",
   "id": "a0f546e7",
   "metadata": {},
   "source": [
    "# 动态规划（Dynamic Programming）\n",
    "\n",
    "能够使用动态规划方法解决的问题必须满足下面三个特征：「最优子结构性质」、「重叠子问题性质」和「无后效性」"
   ]
  },
  {
   "cell_type": "code",
   "execution_count": null,
   "id": "7cf625e9",
   "metadata": {},
   "outputs": [],
   "source": [
    "class Solution:\n",
    "    def uniquePaths(self, m: int, n: int) -> int:\n",
    "        dp = [[0 for _ in range(n)] for _ in range(m)]\n",
    "        \n",
    "        for j in range(n):\n",
    "            dp[0][j] = 1\n",
    "        for i in range(m):\n",
    "            dp[i][0] = 1\n",
    "\n",
    "        for i in range(1, m):\n",
    "            for j in range(1, n):\n",
    "                dp[i][j] = dp[i - 1][j] + dp[i][j - 1]\n",
    "        \n",
    "        return dp[m - 1][n - 1]"
   ]
  },
  {
   "cell_type": "markdown",
   "id": "436426c2",
   "metadata": {},
   "source": [
    "## 区间动态规划\n",
    "\n",
    "根据小区间向大区间转移情况的不同，常见的区间 DP 问题可以分为两种：\n",
    "\n",
    "1. 单个区间从中间向两侧更大区间转移的区间 DP 问题。比如从区间 [i+1,j−1][i + 1, j - 1][i+1,j−1] 转移到更大区间 [i,j][i, j][i,j]。\n",
    "\n",
    "2. 多个（大于等于 2个）小区间转移到大区间的区间 DP 问题。比如从区间 [i,k][i, k][i,k] 和区间 [k,j][k, j][k,j] 转移到区间 [i,j][i, j][i,j]。"
   ]
  },
  {
   "cell_type": "markdown",
   "id": "83d81aab",
   "metadata": {},
   "source": [
    "### 区间 DP 问题的基本思路\n",
    "#### 第 1 种区间 DP 问题基本思路\n",
    "\n",
    "从中间向两侧转移的区间 DP 问题的状态转移方程一般为：\n",
    "\n",
    "dp[i][j]=max{dp[i+1][j−1],dp[i+1][j],dp[i][j−1]}+cost[i][j],   i≤j。\n",
    "\n",
    "1. 其中 dp[i][j]d表示为：区间 [i,j][i, j][i,j]（即下标位置 iii 到下标位置 jjj 上所有元素）上的最大价值。\n",
    "\n",
    "2. cost表示为：从小区间转移到区间 [i,j][i, j][i,j] 的代价。\n",
    "\n",
    "3. 这里的 max/minmax / minmax/min 取决于题目是求最大值还是求最小值。\n",
    "\n",
    "从中间向两侧转移的区间 DP 问题的基本解题思路如下：\n",
    "\n",
    "1. 枚举区间的起点；\n",
    "2. 枚举区间的终点；\n",
    "3. 根据状态转移方程计算从小区间转移到更大区间后的最优值。"
   ]
  },
  {
   "cell_type": "code",
   "execution_count": null,
   "id": "c63af314",
   "metadata": {},
   "outputs": [],
   "source": [
    "for i in range(size - 1, -1, -1):       # 枚举区间起点\n",
    "    for j in range(i + 1, size):        # 枚举区间终点\n",
    "        # 状态转移方程，计算转移到更大区间后的最优值\n",
    "        dp[i][j] = max(dp[i + 1][j - 1], dp[i + 1][j], dp[i][j - 1]) + cost[i][j]"
   ]
  },
  {
   "cell_type": "markdown",
   "id": "ccca52b5",
   "metadata": {},
   "source": [
    "#### 第 2 种区间 DP 问题基本思路\n",
    "多个（大于等于 222 个）小区间转移到大区间的区间 DP 问题的状态转移方程一般为：\n",
    "\n",
    "dp[i][j]=max/min{dp[i][k]+dp[k+1][j]+cost[i][j]},   i<k≤j。\n",
    "\n",
    "1. 其中状态 dp[i][j]dp[i][j]dp[i][j] 表示为：区间 [i,j][i, j][i,j] （即下标位置 iii 到下标位置 jjj 上所有元素）上的最大价值。\n",
    "2. \n",
    "3. cost[i][j]cost[i][j]cost[i][j] 表示为：将两个区间 [i,k][i, k][i,k] 与 [k+1,j][k + 1, j][k+1,j] 中的元素合并为区间 [i,j][i, j][i,j] 中的元素的代价。\n",
    "4. \n",
    "5. 这里的 max/minmax / minmax/min 取决于题目是求最大值还是求最小值。\n",
    "\n",
    "多个小区间转移到大区间的区间 DP 问题的基本解题思路如下：\n",
    "\n",
    "1. 枚举区间长度；\n",
    "2. 枚举区间的起点，根据区间起点和区间长度得出区间终点；\n",
    "3. 枚举区间的分割点，根据状态转移方程计算合并区间后的最优值。"
   ]
  },
  {
   "cell_type": "code",
   "execution_count": null,
   "id": "2aab2868",
   "metadata": {},
   "outputs": [],
   "source": [
    "for l in range(1, n):               # 枚举区间长度\n",
    "    for i in range(n):              # 枚举区间起点\n",
    "        j = i + l - 1               # 根据起点和长度得到终点\n",
    "        if j >= n:\n",
    "            break\n",
    "        dp[i][j] = float('-inf')    # 初始化 dp[i][j]\n",
    "        for k in range(i, j + 1):   # 枚举区间分割点\n",
    "            # 状态转移方程，计算合并区间后的最优值\n",
    "            dp[i][j] = max(dp[i][j], dp[i][k] + dp[k + 1][j] + cost[i][j])"
   ]
  },
  {
   "cell_type": "markdown",
   "id": "83451f56",
   "metadata": {},
   "source": []
  },
  {
   "cell_type": "markdown",
   "id": "03c19f5a",
   "metadata": {},
   "source": [
    "# 基础算法"
   ]
  },
  {
   "cell_type": "markdown",
   "id": "458233d7",
   "metadata": {},
   "source": [
    "## 枚举算法 （Enumeration）"
   ]
  },
  {
   "cell_type": "markdown",
   "id": "085a5814",
   "metadata": {},
   "source": [
    "## 递归算法 （Recursion）"
   ]
  },
  {
   "cell_type": "code",
   "execution_count": null,
   "id": "ec2a32d6",
   "metadata": {},
   "outputs": [],
   "source": [
    "# 斐波那契数列\n",
    "\n",
    "class Solution:\n",
    "    def fib(self, n: int) -> int:\n",
    "        if n == 0:\n",
    "            return 0\n",
    "        if n == 1:\n",
    "            return 1\n",
    "        return self.fib(n - 1) + self.fib(n - 2)"
   ]
  },
  {
   "cell_type": "markdown",
   "id": "270d67a0",
   "metadata": {},
   "source": [
    "## 分治算法 （Divide and Conquer）"
   ]
  },
  {
   "cell_type": "code",
   "execution_count": null,
   "id": "c33106cb",
   "metadata": {},
   "outputs": [],
   "source": [
    "def divide_and_conquer(problem):                # problem 为问题规模\n",
    "    if problem < d:                             # 当问题规模足够小时，直接解决该问题\n",
    "        return solove();                        # 直接求解\n",
    "    \n",
    "    k_problems = divide(problem)                # 将问题分解为 k 个相同形式的子问题\n",
    "    \n",
    "    res = [0 for _ in range(k)]                 # res 用来保存 k 个子问题的解\n",
    "    for k_problem in k_problems:\n",
    "        res[i] = divide_and_conquer(k_problem)  # 递归的求解 k 个子问题\n",
    "    \n",
    "    ans = merge(res)                            # 合并 k 个子问题的解\n",
    "    return ans                                  # 返回原问题的解"
   ]
  },
  {
   "cell_type": "markdown",
   "id": "bb2c2a79",
   "metadata": {},
   "source": [
    "## 回溯算法 （Backtracking）"
   ]
  },
  {
   "cell_type": "code",
   "execution_count": null,
   "id": "f036cfbd",
   "metadata": {},
   "outputs": [],
   "source": [
    "res = []    # 存放所欲符合条件结果的集合\n",
    "path = []   # 存放当前符合条件的结果\n",
    "def backtracking(nums):             # nums 为选择元素列表\n",
    "    if 遇到边界条件:                  # 说明找到了一组符合条件的结果\n",
    "        res.append(path[:])         # 将当前符合条件的结果放入集合中\n",
    "        return\n",
    "\n",
    "    for i in range(len(nums)):      # 枚举可选元素列表\n",
    "        path.append(nums[i])        # 选择元素\n",
    "        backtracking(nums)          # 递归搜索\n",
    "        path.pop()                  # 撤销选择\n",
    "\n",
    "backtracking(nums)"
   ]
  },
  {
   "cell_type": "markdown",
   "id": "62da189e",
   "metadata": {},
   "source": [
    "## 贪心算法 （Greedy）"
   ]
  },
  {
   "cell_type": "markdown",
   "id": "621534e7",
   "metadata": {},
   "source": [
    "## 位运算 （Bit Operation）"
   ]
  },
  {
   "cell_type": "code",
   "execution_count": null,
   "id": "3d6c87f8",
   "metadata": {},
   "outputs": [],
   "source": []
  },
  {
   "cell_type": "code",
   "execution_count": null,
   "id": "148fab96",
   "metadata": {},
   "outputs": [],
   "source": []
  },
  {
   "cell_type": "code",
   "execution_count": null,
   "id": "1cb93ede",
   "metadata": {},
   "outputs": [],
   "source": []
  },
  {
   "cell_type": "code",
   "execution_count": null,
   "id": "56219223",
   "metadata": {},
   "outputs": [],
   "source": []
  }
 ],
 "metadata": {
  "kernelspec": {
   "display_name": "Python 3 (ipykernel)",
   "language": "python",
   "name": "python3"
  },
  "language_info": {
   "codemirror_mode": {
    "name": "ipython",
    "version": 3
   },
   "file_extension": ".py",
   "mimetype": "text/x-python",
   "name": "python",
   "nbconvert_exporter": "python",
   "pygments_lexer": "ipython3",
   "version": "3.8.9"
  }
 },
 "nbformat": 4,
 "nbformat_minor": 5
}
